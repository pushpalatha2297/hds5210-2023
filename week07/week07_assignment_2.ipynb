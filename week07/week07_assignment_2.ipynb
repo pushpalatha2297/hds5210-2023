{
  "cells": [
    {
      "cell_type": "markdown",
      "metadata": {
        "id": "QcW8eWIQ_sAr"
      },
      "source": [
        "# Week 7 Assignment\n",
        "\n",
        "We've been working with different types of data structures in Python (dictionary, list, etc), how those are represented in JSON documents, and how to write code to access specific data elements. In this week's assignment, you will need to create your own JSON document to store information about yourself and the grades you've received from week 1 to week 4 and the week 6 quiz.  That is, everything you should have received a grade for.  Then you'll need to show me you know how to navigate the JSON in that file.\n",
        "\n",
        "Different from what we've done in the past, you do not have to write any functions or include any docstrings.  Just create some JSON and write some code.\n",
        "\n",
        "---"
      ]
    },
    {
      "cell_type": "markdown",
      "metadata": {
        "id": "ujcfTQfQ_sAw"
      },
      "source": [
        "## 7.1 Create a JSON string\n",
        "\n",
        "Create a JSON string that contains your name, email, year you were born, all of the grades you've received back so far, and a comment about what you thought was most challenging on each of those assignments.  This can be any structure you choose, but make sure it uses a dictionary and a list, and has at least two levels of hierarchy.  That is, it can't just be one big long list."
      ]
    },
    {
      "cell_type": "markdown",
      "metadata": {
        "id": "BAenuIVJ_sAw"
      },
      "source": [
        "First, explain how your data structure is going to look..."
      ]
    },
    {
      "cell_type": "markdown",
      "metadata": {
        "id": "T46gXSW7_sAw"
      },
      "source": [
        "My data structure will be a dictionary containing multiple key-value pairs. Here's how it will look:\n",
        "\n",
        "\"PersonalInfo\" key will contain a dictionary with the following key-value pairs:\n",
        "\"Name\" key will contain my name as a string.\n",
        "\"Email\" key will contain my email as a string.\n",
        "\"YearOfBirth\" key will contain the year I was born as a string.\n",
        "\"GradesInformation\" key will contain a list of dictionaries, where each dictionary represents a different assignment. Each assignment dictionary will have the following key-value pairs:\n",
        "\"AssignmentName\" key will contain the assignment name as a string.\n",
        "\"Grade\" key will contain the grade received for that assignment as a string.\n",
        "\"Challenges\" key will contain a comment about what I found most challenging for that assignment as a string.\n",
        "This structure allows me to organize and store personal information along with assignment-related data in a hierarchical manner, making it easy to access and manage both types of information."
      ]
    },
    {
      "cell_type": "markdown",
      "metadata": {
        "id": "upuuAF0K_sAx"
      },
      "source": [
        "Then put the actual JSON you've created inside the multiline string below..."
      ]
    },
    {
      "cell_type": "code",
      "execution_count": 1,
      "metadata": {
        "id": "PChN8Ncb_sAx",
        "outputId": "84c79487-32c0-4351-a1cb-af272a549659",
        "colab": {
          "base_uri": "https://localhost:8080/"
        }
      },
      "outputs": [
        {
          "output_type": "execute_result",
          "data": {
            "text/plain": [
              "{'PersonalInfo': {'Name': 'Pushpalatha Reddy Ginni',\n",
              "  'Email': 'nagapushpalatha.ginni@slu.edu',\n",
              "  'YearOfBirth': '1997',\n",
              "  'DOB': '08/10/1997'},\n",
              " 'HDS 5210-02 Week Assignment Grades Information ': [{'AssignmentName': 'Week 1 Assignment',\n",
              "   'Grade': '10 out of 10',\n",
              "   'Challenges': 'Understanding the platform and GitHub interaction.'},\n",
              "  {'AssignmentName': 'Week 2 Assignment',\n",
              "   'Grade': '10 out of 10',\n",
              "   'Challenges': 'Debugging.'},\n",
              "  {'AssignmentName': 'Week 3 Assignment',\n",
              "   'Grade': '10 out of 10',\n",
              "   'Challenges': 'Handling Counter Conditions.'},\n",
              "  {'AssignmentName': 'Week 4 Assignment',\n",
              "   'Grade': '10 out of 10',\n",
              "   'Challenges': 'Nested Data Structures.'},\n",
              "  {'AssignmentName': 'Week 5 Assignment',\n",
              "   'Grade': 'Not Graded',\n",
              "   'Challenges': 'Conversion Logic.'},\n",
              "  {'AssignmentName': 'Week 6 Quiz',\n",
              "   'Grade': '20 out of 20',\n",
              "   'Challenges': 'Time management.'}]}"
            ]
          },
          "metadata": {},
          "execution_count": 1
        }
      ],
      "source": [
        "import json\n",
        "{\n",
        "    \"PersonalInfo\": {\n",
        "        \"Name\": \"Pushpalatha Reddy Ginni\",\n",
        "        \"Email\": \"nagapushpalatha.ginni@slu.edu\",\n",
        "        \"YearOfBirth\": \"1997\",\n",
        "        \"DOB\": \"08/10/1997\"\n",
        "    },\n",
        "    \"HDS 5210-02 Week Assignment Grades Information \":\n",
        "     [\n",
        "        {\n",
        "            \"AssignmentName\": \"Week 1 Assignment\",\n",
        "            \"Grade\": \"10 out of 10\",\n",
        "            \"Challenges\": \"Understanding the platform and GitHub interaction.\"\n",
        "        },\n",
        "        {\n",
        "            \"AssignmentName\": \"Week 2 Assignment\",\n",
        "            \"Grade\": \"10 out of 10\",\n",
        "            \"Challenges\": \"Debugging.\"\n",
        "        },\n",
        "        {\n",
        "            \"AssignmentName\": \"Week 3 Assignment\",\n",
        "            \"Grade\": \"10 out of 10\",\n",
        "            \"Challenges\": \"Handling Counter Conditions.\"\n",
        "        },\n",
        "        {\n",
        "            \"AssignmentName\": \"Week 4 Assignment\",\n",
        "            \"Grade\": \"10 out of 10\",\n",
        "            \"Challenges\": \"Nested Data Structures.\"\n",
        "        },\n",
        "        {\n",
        "            \"AssignmentName\": \"Week 5 Assignment\",\n",
        "            \"Grade\": \"Not Graded\",\n",
        "            \"Challenges\": \"Conversion Logic.\"\n",
        "        },\n",
        "        {\n",
        "            \"AssignmentName\": \"Week 6 Quiz\",\n",
        "            \"Grade\": \"20 out of 20\",\n",
        "            \"Challenges\": \"Time management.\"\n",
        "        }\n",
        "\n",
        "    ]\n",
        "}\n"
      ]
    },
    {
      "cell_type": "markdown",
      "metadata": {
        "id": "i4PJZIbz_sAy"
      },
      "source": [
        "## 7.2 Do something with your JSON\n",
        "\n",
        "Now use Python code to do something with the Json above.  Turn it into English text, but make sure that you use at least one loop to access some dict or list content of your JSON.  Below, I've provided some basic code to read in the string above as JSON and return a Python object.  Your job is to work with that data structure and print out the important information like your name, email, and how you did on each assignment."
      ]
    },
    {
      "cell_type": "code",
      "execution_count": 2,
      "metadata": {
        "id": "5tIOylKi_sAy",
        "outputId": "273f9179-80c5-4d8a-8f18-944a5983bed2",
        "colab": {
          "base_uri": "https://localhost:8080/"
        }
      },
      "outputs": [
        {
          "output_type": "stream",
          "name": "stdout",
          "text": [
            "Hi, my name is Pushpalatha Reddy Ginni.\n",
            "I was born in 1997, and my date of birth is 08/10/1997.\n",
            "My email address is nagapushpalatha.ginni@slu.edu.\n",
            "I've got 5 graded assignments. Here are the details:\n",
            "- Assignment: Week 1 Assignment\n",
            "  Grade: 10 out of 10\n",
            "- Assignment: Week 2 Assignment\n",
            "  Grade: 10 out of 10\n",
            "- Assignment: Week 3 Assignment\n",
            "  Grade: 10 out of 10\n",
            "- Assignment: Week 4 Assignment\n",
            "  Grade: 10 out of 10\n",
            "- Assignment: Week 6 Quiz\n",
            "  Grade: 20 out of 20\n"
          ]
        }
      ],
      "source": [
        "import json\n",
        "\n",
        "json_data = '''\n",
        "{\n",
        "    \"PersonalInfo\": {\n",
        "        \"Name\": \"Pushpalatha Reddy Ginni\",\n",
        "        \"Email\": \"nagapushpalatha.ginni@slu.edu\",\n",
        "        \"YearOfBirth\": \"1997\",\n",
        "        \"DOB\": \"08/10/1997\"\n",
        "    },\n",
        "    \"HDS 5210-02 Week Assignment Grades Information\": [\n",
        "        {\n",
        "            \"AssignmentName\": \"Week 1 Assignment\",\n",
        "            \"Grade\": \"10 out of 10\",\n",
        "            \"Challenges\": \"Understanding the platform and GitHub interaction.\"\n",
        "        },\n",
        "        {\n",
        "            \"AssignmentName\": \"Week 2 Assignment\",\n",
        "            \"Grade\": \"10 out of 10\",\n",
        "            \"Challenges\": \"Debugging.\"\n",
        "        },\n",
        "        {\n",
        "            \"AssignmentName\": \"Week 3 Assignment\",\n",
        "            \"Grade\": \"10 out of 10\",\n",
        "            \"Challenges\": \"Handling Counter Conditions.\"\n",
        "        },\n",
        "        {\n",
        "            \"AssignmentName\": \"Week 4 Assignment\",\n",
        "            \"Grade\": \"10 out of 10\",\n",
        "            \"Challenges\": \"Nested Data Structures.\"\n",
        "        },\n",
        "        {\n",
        "            \"AssignmentName\": \"Week 5 Assignment\",\n",
        "            \"Grade\": \"Not Graded\",\n",
        "            \"Challenges\": \"Conversion Logic.\"\n",
        "        },\n",
        "        {\n",
        "            \"AssignmentName\": \"Week 6 Quiz\",\n",
        "            \"Grade\": \"20 out of 20\",\n",
        "            \"Challenges\": \"Time management.\"\n",
        "        }\n",
        "    ]\n",
        "}\n",
        "'''\n",
        "\n",
        "data = json.loads(json_data)\n",
        "\n",
        "personal_info = data[\"PersonalInfo\"]\n",
        "name = personal_info[\"Name\"]\n",
        "email = personal_info[\"Email\"]\n",
        "year_of_birth = personal_info[\"YearOfBirth\"]\n",
        "dob = personal_info[\"DOB\"]\n",
        "\n",
        "assignments = data[\"HDS 5210-02 Week Assignment Grades Information\"]\n",
        "\n",
        "# Extract relevant data\n",
        "assignment_names = [assignment[\"AssignmentName\"] for assignment in assignments]\n",
        "grades = [assignment[\"Grade\"] for assignment in assignments]\n",
        "\n",
        "# Count the number of graded assignments\n",
        "num_graded_assignments = sum(1 for grade in grades if grade != \"Not Graded\")\n",
        "\n",
        "print(f\"Hi, my name is {name}.\")\n",
        "print(f\"I was born in {year_of_birth}, and my date of birth is {dob}.\")\n",
        "print(f\"My email address is {email}.\")\n",
        "\n",
        "if num_graded_assignments > 0:\n",
        "    print(f\"I've got {num_graded_assignments} graded assignments. Here are the details:\")\n",
        "    for i in range(len(assignment_names)):\n",
        "        if grades[i] != \"Not Graded\":\n",
        "            print(f\"- Assignment: {assignment_names[i]}\")\n",
        "            print(f\"  Grade: {grades[i]}\")\n",
        "else:\n",
        "    print(\"I haven't received any graded assignments yet.\")\n"
      ]
    },
    {
      "cell_type": "markdown",
      "metadata": {
        "id": "olWRYTwc_sAy"
      },
      "source": [
        "## 7.3 Reflect\n",
        "\n",
        "Write a paragraph on any reflections you have. Was this hard? Easy?  What parts were most challenging or easiest? What did you like or dislike about the assignment?  Share whatever important thoughts you have abou this assignment."
      ]
    },
    {
      "cell_type": "markdown",
      "metadata": {
        "id": "VFrCwKvP_sAz"
      },
      "source": [
        "This assignment involved parsing JSON data and converting it into human-readable English text. While it wasn't excessively difficult, it provided a practical exercise in working with structured data. The task of extracting personal information was straightforward, but the challenge lay in looping through the assignment data and dynamically generating English paragraphs based on whether assignments were graded or not. The process required careful attention to detail to ensure that the output was correctly formatted. Overall, this assignment allowed me to gain valuable experience in data manipulation and text generation, essential skills for any programming and data analysis tasks."
      ]
    },
    {
      "cell_type": "markdown",
      "metadata": {
        "id": "EBhA2kyh_sAz"
      },
      "source": [
        "---\n",
        "\n",
        "# Example\n",
        "\n",
        "Below is an example of something similar, but this uses information my and my friend's kids instead of grades."
      ]
    },
    {
      "cell_type": "code",
      "execution_count": 3,
      "metadata": {
        "id": "Ip-xWY9L_sAz",
        "outputId": "9ee79881-1ba3-418c-f405-950df6d180e0",
        "colab": {
          "base_uri": "https://localhost:8080/"
        }
      },
      "outputs": [
        {
          "output_type": "stream",
          "name": "stdout",
          "text": [
            "Hi, my name is Paul. I've got 3 kids. Their names are Ellie, Ada, Teddy.\n",
            "My friend, Anny has 1 kids. That's fewer than me. Their names are 1\n"
          ]
        }
      ],
      "source": [
        "hds5210 = \"\"\"\n",
        "{\n",
        "    \"me\": {\n",
        "        \"name\": \"Paul\",\n",
        "        \"kids\": [\"Ellie\", \"Ada\", \"Teddy\"]\n",
        "    },\n",
        "    \"friend\": {\n",
        "        \"name\": \"Anny\",\n",
        "        \"kids\": [\"Abby\"]\n",
        "    }\n",
        "}\n",
        "\"\"\"\n",
        "\n",
        "import json\n",
        "\n",
        "info = json.loads(hds5210)\n",
        "\n",
        "me = info[\"me\"][\"name\"]\n",
        "my_kids_count = len(info[\"me\"][\"kids\"])\n",
        "kids_list = \", \".join(info[\"me\"][\"kids\"])\n",
        "friend = info[\"friend\"][\"name\"]\n",
        "friends_kid_count = len(info[\"friend\"][\"kids\"])\n",
        "friend_kids = \", \".join(info[\"friend\"][\"kids\"])\n",
        "compare = \"more\" if friends_kid_count > my_kids_count else \"fewer\"\n",
        "\n",
        "print(f\"Hi, my name is {me}. I've got {my_kids_count} kids. Their names are {kids_list}.\")\n",
        "print(f\"My friend, {friend} has {friends_kid_count} kids. That's {compare} than me. Their names are {friends_kid_count}\")"
      ]
    }
  ],
  "metadata": {
    "kernelspec": {
      "display_name": "Python 3",
      "language": "python",
      "name": "python3"
    },
    "language_info": {
      "codemirror_mode": {
        "name": "ipython",
        "version": 3
      },
      "file_extension": ".py",
      "mimetype": "text/x-python",
      "name": "python",
      "nbconvert_exporter": "python",
      "pygments_lexer": "ipython3",
      "version": "3.9.16"
    },
    "colab": {
      "provenance": []
    }
  },
  "nbformat": 4,
  "nbformat_minor": 0
}