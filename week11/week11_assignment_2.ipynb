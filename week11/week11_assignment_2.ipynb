{
  "cells": [
    {
      "cell_type": "markdown",
      "metadata": {
        "id": "view-in-github",
        "colab_type": "text"
      },
      "source": [
        "<a href=\"https://colab.research.google.com/github/pushpalatha2297/hds5210-2023/blob/main/week11/week11_assignment_2.ipynb\" target=\"_parent\"><img src=\"https://colab.research.google.com/assets/colab-badge.svg\" alt=\"Open In Colab\"/></a>"
      ]
    },
    {
      "cell_type": "markdown",
      "metadata": {
        "id": "7-HbIoD2yXd9"
      },
      "source": [
        "# Week 11 Assignment\n",
        "\n",
        "\n",
        "Please do the programming exercise and verify that your code works using the tests, then think about your final project and fill out the questions in the second part.\n",
        "\n",
        "---\n",
        "---"
      ]
    },
    {
      "cell_type": "markdown",
      "metadata": {
        "id": "yFi_rnpOyXd_"
      },
      "source": [
        "### 47.1: Filtering and summarizing data\n",
        "\n",
        "For this work, you'll find a data file in `https://hds5210-data.s3.amazonaws.com/complications_all.csv`.\n",
        "\n",
        "Read in the data file and create a variable called `mo_hospitals` that contains a data frame from the `complications_all.csv` file, filtered down to only contain those hospitals from the state of Missouri (MO).\n",
        "\n",
        "Then aggregate that data by hospital into a variable named `mo_summary`.  There are some key fields that we want to summarize:\n",
        "* We want to know the earliest date that each hospital was participating in any program\n",
        "* We want to know the latest date that each hospital stopped participating in any program\n",
        "* We want to know the total number of patients in the denominators of these programs\n",
        "\n",
        "Some things to note:\n",
        "* You will need to convert the `Start Date` and `End Date` to actual datetime fields\n",
        "* You will need to clean up and convert the `Denominator` field to just be numeric - the rule that you should use it to simply remove any records where the `Denominator` is `'Not Available'`\n",
        "\n",
        "\n",
        "The final result of this step should be a new data frame called `mo_summary` that contains one row for each hospital and contains the min start date, max end date, and total denominator.  Use the names `start_date`, `end_date`, and `number` for those columns in `mo_summary`.\n",
        "\n",
        "\n",
        "You do not need to create your code in the form of a function, just make sure your variable names match what I've described above so the tests work."
      ]
    },
    {
      "cell_type": "code",
      "execution_count": 1,
      "metadata": {
        "id": "R4xDk8P2yXeA"
      },
      "outputs": [],
      "source": [
        "import pandas as pd\n",
        "\n",
        "# Read the data\n",
        "url = 'https://hds5210-data.s3.amazonaws.com/complications_all.csv'\n",
        "data = pd.read_csv(url)\n"
      ]
    },
    {
      "cell_type": "code",
      "execution_count": 2,
      "metadata": {
        "colab": {
          "base_uri": "https://localhost:8080/"
        },
        "id": "FAkqB5sayXeB",
        "outputId": "ee60e458-4d0a-41b8-f22e-2989130fd62c"
      },
      "outputs": [
        {
          "output_type": "stream",
          "name": "stderr",
          "text": [
            "<ipython-input-2-1de7ac5e5e43>:5: DeprecationWarning: In a future version, `df.iloc[:, i] = newvals` will attempt to set the values inplace instead of always setting a new array. To retain the old behavior, use either `df[df.columns[i]] = newvals` or, if columns are non-unique, `df.isetitem(i, newvals)`\n",
            "  mo_hospitals.loc[:, 'Start Date'] = pd.to_datetime(mo_hospitals['Start Date'])\n",
            "<ipython-input-2-1de7ac5e5e43>:6: DeprecationWarning: In a future version, `df.iloc[:, i] = newvals` will attempt to set the values inplace instead of always setting a new array. To retain the old behavior, use either `df[df.columns[i]] = newvals` or, if columns are non-unique, `df.isetitem(i, newvals)`\n",
            "  mo_hospitals.loc[:, 'End Date'] = pd.to_datetime(mo_hospitals['End Date'])\n"
          ]
        }
      ],
      "source": [
        "# Filter the data to include only Missouri hospitals\n",
        "mo_hospitals = data[data['State'] == 'MO'].copy()  # Added .copy() to avoid the warning\n",
        "\n",
        "# Convert 'Start Date' and 'End Date' to datetime using .loc\n",
        "mo_hospitals.loc[:, 'Start Date'] = pd.to_datetime(mo_hospitals['Start Date'])\n",
        "mo_hospitals.loc[:, 'End Date'] = pd.to_datetime(mo_hospitals['End Date'])\n",
        "\n",
        "# Remove records where the Denominator is 'Not Available'\n",
        "mo_hospitals = mo_hospitals[mo_hospitals['Denominator'] != 'Not Available']\n",
        "\n",
        "# Convert 'Denominator' to numeric, coercing errors which will turn strings that can't be converted into NaN, then drop these\n",
        "mo_hospitals['Denominator'] = pd.to_numeric(mo_hospitals['Denominator'], errors='coerce')\n",
        "mo_hospitals.dropna(subset=['Denominator'], inplace=True)\n",
        "\n",
        "# Aggregate the data by hospital\n",
        "mo_summary = mo_hospitals.groupby('Facility Name').agg({\n",
        "    'Start Date': 'min',\n",
        "    'End Date': 'max',\n",
        "    'Denominator': 'sum'\n",
        "})\n",
        "\n",
        "# Rename columns for clarity\n",
        "mo_summary.rename(columns={\n",
        "    'Start Date': 'start_date',\n",
        "    'End Date': 'end_date',\n",
        "    'Denominator': 'number'\n",
        "}, inplace=True)"
      ]
    },
    {
      "cell_type": "code",
      "execution_count": 3,
      "metadata": {
        "id": "IfzH3h7kyXeB"
      },
      "outputs": [],
      "source": [
        "assert mo_summary['number'].sum() == 1766908\n",
        "assert mo_summary['start_date'].min() == pd.Timestamp(2015,4,1)\n",
        "assert mo_summary['end_date'].max() == pd.Timestamp(2018,6,30)\n",
        "assert mo_summary.shape == (108, 3)\n",
        "assert mo_summary.loc['BARNES JEWISH HOSPITAL'].number == 131313\n",
        "assert mo_summary.loc['BOONE HOSPITAL CENTER'].number == 63099"
      ]
    },
    {
      "cell_type": "code",
      "source": [
        "mo_summary['number'].sum()"
      ],
      "metadata": {
        "id": "wWC19yebOjMp",
        "outputId": "8d3c6f59-4786-4430-9334-dea39d36fe08",
        "colab": {
          "base_uri": "https://localhost:8080/"
        }
      },
      "execution_count": 4,
      "outputs": [
        {
          "output_type": "execute_result",
          "data": {
            "text/plain": [
              "1766908"
            ]
          },
          "metadata": {},
          "execution_count": 4
        }
      ]
    },
    {
      "cell_type": "code",
      "source": [
        "mo_summary['start_date'].min()"
      ],
      "metadata": {
        "id": "qBv63Xs0Osf2",
        "outputId": "656ab8f7-9929-4ae6-b49d-2d2a543f10b8",
        "colab": {
          "base_uri": "https://localhost:8080/"
        }
      },
      "execution_count": 5,
      "outputs": [
        {
          "output_type": "execute_result",
          "data": {
            "text/plain": [
              "Timestamp('2015-04-01 00:00:00')"
            ]
          },
          "metadata": {},
          "execution_count": 5
        }
      ]
    },
    {
      "cell_type": "code",
      "source": [
        "mo_summary['end_date'].max()"
      ],
      "metadata": {
        "id": "VYaQvx9MOwJl",
        "outputId": "76b7a37a-05e4-480c-fd4f-59a79ecb9ec2",
        "colab": {
          "base_uri": "https://localhost:8080/"
        }
      },
      "execution_count": 6,
      "outputs": [
        {
          "output_type": "execute_result",
          "data": {
            "text/plain": [
              "Timestamp('2018-06-30 00:00:00')"
            ]
          },
          "metadata": {},
          "execution_count": 6
        }
      ]
    },
    {
      "cell_type": "code",
      "source": [
        "mo_summary.shape == (108, 3)"
      ],
      "metadata": {
        "id": "EebtaLrDO-vv",
        "outputId": "71d531fa-d5fe-411d-d69d-e0cf39c993ee",
        "colab": {
          "base_uri": "https://localhost:8080/"
        }
      },
      "execution_count": 7,
      "outputs": [
        {
          "output_type": "execute_result",
          "data": {
            "text/plain": [
              "True"
            ]
          },
          "metadata": {},
          "execution_count": 7
        }
      ]
    },
    {
      "cell_type": "code",
      "source": [
        "mo_summary.loc['BARNES JEWISH HOSPITAL'].number"
      ],
      "metadata": {
        "id": "O1B1P6YxPDkf",
        "outputId": "49fa3b51-638b-4dc5-9497-30c21e262183",
        "colab": {
          "base_uri": "https://localhost:8080/"
        }
      },
      "execution_count": 8,
      "outputs": [
        {
          "output_type": "execute_result",
          "data": {
            "text/plain": [
              "131313"
            ]
          },
          "metadata": {},
          "execution_count": 8
        }
      ]
    },
    {
      "cell_type": "code",
      "source": [
        "mo_summary.loc['BOONE HOSPITAL CENTER'].number"
      ],
      "metadata": {
        "id": "GvOuF9iyPJ72",
        "outputId": "327c446d-a4cb-4c1d-a622-0b02f215ad77",
        "colab": {
          "base_uri": "https://localhost:8080/"
        }
      },
      "execution_count": 9,
      "outputs": [
        {
          "output_type": "execute_result",
          "data": {
            "text/plain": [
              "63099"
            ]
          },
          "metadata": {},
          "execution_count": 9
        }
      ]
    },
    {
      "cell_type": "markdown",
      "metadata": {
        "id": "ip03P2VKyXeC"
      },
      "source": [
        "---\n",
        "\n",
        "### 47.2 Planning your final project\n",
        "\n",
        "You should be thinking about the things we've been learning and how you can apply them to your final project.  Use the rubric to help guid your thinking and then answer the questions below.  This is meant as a guide to help you think through what you will do."
      ]
    },
    {
      "cell_type": "markdown",
      "metadata": {
        "id": "qAGevNkDyXeC"
      },
      "source": [
        "#### A) Data Access\n",
        "\n",
        "Your project should include data from at least three distinct types of sources.  For example: AWS S3, Relational Databases, Internet, Web Services, local files.  List what data sources you're planning to use."
      ]
    },
    {
      "cell_type": "markdown",
      "metadata": {
        "id": "P82I3yw_yXeC"
      },
      "source": [
        "I have chosen these two datasets for my resaerch project\n",
        "\n",
        "\n",
        "\n",
        "**Heart Disease Mortality by State 2021**.\n",
        "\n",
        "Accessed from: https://www.cdc.gov/nchs/pressroom/sosmap/heart_disease_mortality/heart_disease.htm\n",
        "\n",
        "local file: https://drive.google.com/file/d/1ALDjXt69Hhp9JT7NnEo02hFE2i87auTr/view?usp=drive_link\n"
      ]
    },
    {
      "cell_type": "markdown",
      "metadata": {
        "id": "gPaVuEnAyXeC"
      },
      "source": [
        "#### B. Data Formats\n",
        "\n",
        "Your project should include data that comes in different file formats.  For example: HL7, EDI, HTML, CSV, Excel, JSON, XML.  List what data formats you're planning to use."
      ]
    },
    {
      "cell_type": "markdown",
      "metadata": {
        "id": "bVz661uryXeC"
      },
      "source": [
        "The Heart Disease Mortality  was available to download in CSV format\n"
      ]
    },
    {
      "cell_type": "markdown",
      "metadata": {
        "id": "JzTzyg-byXeC"
      },
      "source": [
        "#### C. Objective\n",
        "\n",
        "What purpose would your project serve in a real work setting?  Take a couple of paragraphs to write down why this is an interesting product."
      ]
    },
    {
      "cell_type": "markdown",
      "metadata": {
        "id": "tNhI0OMiyXeC"
      },
      "source": [
        "A project on heart disease mortality in 2021 could serve  several crucial purposes in a real-world setting:\n",
        "\n",
        "\n",
        "Firstly, knowing the frequency and distribution of heart disease-related mortality across various demographic groups and geographical areas may be crucial information for public health professionals and policymakers. Trends showing the efficacy of public health initiatives and policies can be found by examining death rates. Additionally, it could highlight high-death rate regions that require more funding and focused treatments.\n",
        "\n",
        "Secondly, by identifying probable risk factors linked to higher mortality, the initiative may help physicians and medical researchers. This might lead to more individualized patient care and help guide future studies on therapies, prevention strategies, and resource allocation. Healthcare practitioners might enhance patient outcomes by early intervention and better care techniques by looking for trends in the data.\n",
        "\n",
        "Finally, given that heart disease continues to be one of the world's top causes of mortality, this is an intriguing product. Given the substantial health burden associated with cardiovascular disease, a study that delves deeply into mortality statistics can be beneficial on many levels. It can improve clinical knowledge of patient outcomes and influence health policy and initiatives that may save lives. In one of the most critical public health sectors, it is an example of the effectiveness of data-driven decision-making.\n",
        "\n",
        "\n"
      ]
    },
    {
      "cell_type": "markdown",
      "metadata": {
        "id": "JBd9anYUyXeD"
      },
      "source": [
        "\n",
        "\n",
        "---\n",
        "\n",
        "\n",
        "\n",
        "## Submit your work via GitHub as normal\n"
      ]
    }
  ],
  "metadata": {
    "kernelspec": {
      "display_name": "Python 3",
      "language": "python",
      "name": "python3"
    },
    "language_info": {
      "codemirror_mode": {
        "name": "ipython",
        "version": 3
      },
      "file_extension": ".py",
      "mimetype": "text/x-python",
      "name": "python",
      "nbconvert_exporter": "python",
      "pygments_lexer": "ipython3",
      "version": "3.9.16"
    },
    "colab": {
      "provenance": [],
      "include_colab_link": true
    }
  },
  "nbformat": 4,
  "nbformat_minor": 0
}